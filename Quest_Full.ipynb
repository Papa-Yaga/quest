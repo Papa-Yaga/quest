{
  "cells": [
    {
      "cell_type": "code",
      "execution_count": null,
      "metadata": {
        "id": "ekJovDiNT0IC"
      },
      "outputs": [],
      "source": [
        "# Quest 1 - Escape Game"
      ]
    },
    {
      "cell_type": "code",
      "execution_count": null,
      "metadata": {
        "id": "oFDtVotye3R4"
      },
      "outputs": [],
      "source": [
        "# Shammi, Idara, Rosi, Sergej"
      ]
    },
    {
      "cell_type": "code",
      "execution_count": 5,
      "metadata": {
        "id": "ulNuRpC4iC1z"
      },
      "outputs": [],
      "source": [
        "# from shammi ------ (you can TOUCH 😛)\n",
        "\n",
        "# define rooms and items\n",
        "game_room = {\"name\": \"game_room\", \"type\": \"room\"}\n",
        "bedroom_1 = {\"name\": \"bedroom_1\", \"type\": \"room\"}\n",
        "bedroom_2 = {\"name\": \"bedroom_2\", \"type\": \"room\"}\n",
        "living_room = {\"name\": \"living_room\", \"type\": \"room\"}\n",
        "\n",
        "door_a = {\"name\": \"door_a\", \"type\": \"door\", \"desc\": \"A normal wooden door. It seems to require a key.\"}\n",
        "door_b = {\"name\": \"door_b\", \"type\": \"door\", \"desc\": \"A normal wooden door. It seems to require a key.\"}\n",
        "door_c = {\"name\": \"door_c\", \"type\": \"door\", \"desc\": \"A normal wooden door. It seems to require a key.\"}\n",
        "door_d = {\"name\": \"door_d\", \"type\": \"door\", \"desc\": \"A normal wooden door. It seems to require a key.\"}\n",
        "\n",
        "# Changes made to keys: Added \"target\" key to clearly mark which key belongs to which door.\n",
        "\n",
        "key_a = {\"name\": \"key_a\", \"type\": \"key\", \"target\": \"door_a\"}\n",
        "key_b = {\"name\": \"key_b\", \"type\": \"key\", \"target\": \"door_b\"}\n",
        "key_c = {\"name\": \"key_c\", \"type\": \"key\", \"target\": \"door_c\"}\n",
        "key_d = {\"name\": \"key_d\", \"type\": \"key\", \"target\": \"door_d\"}\n",
        "\n",
        "couch = {\"name\": \"couch\", \"type\": \"furniture\", \"desc\": \"An unassuming gray couch. Many people seem to have rested here before you.\"}\n",
        "piano = {\"name\": \"piano\", \"type\": \"furniture\", \"desc\": \"A grand black piano. Its wing is open, revealing the strings... and something shiny.\"}\n",
        "queen_bed = {\"name\": \"queen_bed\", \"type\": \"furniture\", \"desc\": \"A big bed, suitable for two. Looks comfortable...\"}\n",
        "double_bed = {\"name\": \"double_bed\", \"type\": \"furniture\", \"desc\": \"Also a big bed. Weird. As the name suggests, it can hold two...guests?.\"}\n",
        "dresser = {\"name\": \"dresser\", \"type\": \"furniture\", \"desc\": \"A small wooden dresser. Its handles seem to have been handled often.\"}\n",
        "dining_table = {\"name\": \"dining_table\", \"type\": \"furniture\", \"desc\": \"A regular dining table. Four chairs and some empty plates.\"}\n",
        "outside = {\"name\": \"outside\"}\n",
        "\n",
        "all_rooms = [game_room, bedroom_1, bedroom_2, living_room, outside]\n",
        "all_doors = [door_a, door_b, door_c, door_d]\n",
        "all_keys = [key_a, key_b, key_c, key_d]\n",
        "all_furnitures = [couch, piano, queen_bed, double_bed, dresser, dining_table]\n",
        "\n",
        "allVars = globals()\n",
        "\n",
        "\n",
        "# define which items/rooms are related\n",
        "# key and value\n",
        "\n",
        "object_relations = {\n",
        "    \"game_room\": [couch, piano, door_a],\n",
        "    \"bedroom_1\": [door_a, door_b, door_c, queen_bed],\n",
        "    \"bedroom_2\": [double_bed, dresser],\n",
        "    \"living_room\": [dining_table, door_c, door_d],\n",
        "\n",
        "    \"couch\": [],\n",
        "    \"piano\": [key_a],\n",
        "    \"queen_bed\": [key_b],\n",
        "    \"double_bed\": [key_c],\n",
        "    \"dresser\": [key_d],\n",
        "    \"dining_table\": [],\n",
        "\n",
        "    \"door_a\": [game_room, bedroom_1],\n",
        "    \"door_b\": [bedroom_1, bedroom_2],\n",
        "    \"door_c\": [bedroom_1, living_room],\n",
        "    \"door_d\": [living_room, outside],\n",
        "}\n",
        "\n",
        "\n",
        "INIT_GAME_STATE = {\n",
        "    \"current_room\": game_room,\n",
        "    \"keys_collected\": set(),\n",
        "    \"target_room\": outside,\n",
        "}\n"
      ]
    },
    {
      "cell_type": "code",
      "execution_count": 2,
      "metadata": {
        "id": "EOfpUeZi4pzN"
      },
      "outputs": [],
      "source": [
        "def search_object(current_room, object_relations, user_input):\n",
        "    try:\n",
        "      if object_relations[user_input][0][\"type\"] == \"key\":\n",
        "        related_item = object_relations[user_input][0][\"name\"]\n",
        "        print(f\"Congratulations, you found {related_item}. Enter a door to try opening it.\")\n",
        "        game_state[\"keys_collected\"].add(related_item)\n",
        "      else:\n",
        "        print(f\"You find nothing in {user_input.title()}.\")\n",
        "    except KeyError:\n",
        "      print(\"That does not exist.\")\n",
        "    except IndexError:\n",
        "      print(f\"You find nothing in {user_input.title()}.\")\n",
        "    # related_items = object_relations[\"couch\"]\n",
        "\n",
        "# search_object(game_room, object_relations)"
      ]
    },
    {
      "cell_type": "code",
      "execution_count": 3,
      "metadata": {
        "id": "Q-Q5jWhG4qby"
      },
      "outputs": [],
      "source": [
        "def explore_room(current_room):\n",
        "\n",
        "    \"\"\"\n",
        "    This allows the player explore the current room and discover the items. Parameters: current_room (dict):\n",
        "    The dictionary representing the current room to be explored.\n",
        "    Returns: A list of strings representing the names of the items found in the current room.\n",
        "    \"\"\"\n",
        "\n",
        "\n",
        "    room_items = [item[\"name\"] for room, items_list in object_relations.items() if room == current_room for item in items_list]\n",
        "    print(\"Items in the room:\", room_items)\n",
        "    return room_items"
      ]
    },
    {
      "cell_type": "code",
      "execution_count": 6,
      "metadata": {
        "colab": {
          "base_uri": "https://localhost:8080/",
          "height": 339
        },
        "id": "5Llm4qnZhCFz",
        "outputId": "06f79a85-e940-4c3a-811d-56e5964362cb"
      },
      "outputs": [
        {
          "output_type": "stream",
          "name": "stdout",
          "text": [
            "You wake up in an escape room in indonesia.\n"
          ]
        },
        {
          "output_type": "error",
          "ename": "KeyboardInterrupt",
          "evalue": "Interrupted by user",
          "traceback": [
            "\u001b[0;31m---------------------------------------------------------------------------\u001b[0m",
            "\u001b[0;31mKeyboardInterrupt\u001b[0m                         Traceback (most recent call last)",
            "\u001b[0;32m<ipython-input-6-75ed3a270f19>\u001b[0m in \u001b[0;36m<cell line: 81>\u001b[0;34m()\u001b[0m\n\u001b[1;32m     79\u001b[0m \u001b[0mgame_state\u001b[0m \u001b[0;34m=\u001b[0m \u001b[0mINIT_GAME_STATE\u001b[0m\u001b[0;34m.\u001b[0m\u001b[0mcopy\u001b[0m\u001b[0;34m(\u001b[0m\u001b[0;34m)\u001b[0m\u001b[0;34m\u001b[0m\u001b[0;34m\u001b[0m\u001b[0m\n\u001b[1;32m     80\u001b[0m \u001b[0;34m\u001b[0m\u001b[0m\n\u001b[0;32m---> 81\u001b[0;31m \u001b[0mstart_game\u001b[0m\u001b[0;34m(\u001b[0m\u001b[0mgame_state\u001b[0m\u001b[0;34m[\u001b[0m\u001b[0;34m'current_room'\u001b[0m\u001b[0;34m]\u001b[0m\u001b[0;34m[\u001b[0m\u001b[0;34m\"name\"\u001b[0m\u001b[0;34m]\u001b[0m\u001b[0;34m)\u001b[0m\u001b[0;34m\u001b[0m\u001b[0;34m\u001b[0m\u001b[0m\n\u001b[0m",
            "\u001b[0;32m<ipython-input-6-75ed3a270f19>\u001b[0m in \u001b[0;36mstart_game\u001b[0;34m(current_room)\u001b[0m\n\u001b[1;32m     50\u001b[0m         \u001b[0mcurrent_room\u001b[0m \u001b[0;34m=\u001b[0m \u001b[0mroom\u001b[0m\u001b[0;34m\u001b[0m\u001b[0;34m\u001b[0m\u001b[0m\n\u001b[1;32m     51\u001b[0m \u001b[0;34m\u001b[0m\u001b[0m\n\u001b[0;32m---> 52\u001b[0;31m     \u001b[0muser_input\u001b[0m \u001b[0;34m=\u001b[0m \u001b[0minput\u001b[0m\u001b[0;34m(\u001b[0m\u001b[0;34mf\"\\n You are in {current_room['name']}. What would you like to do now? You can explore the room, examine an object, search an object or check your inventory.\"\u001b[0m\u001b[0;34m)\u001b[0m\u001b[0;34m\u001b[0m\u001b[0;34m\u001b[0m\u001b[0m\n\u001b[0m\u001b[1;32m     53\u001b[0m     \u001b[0;32mif\u001b[0m \u001b[0;34m\"explore\"\u001b[0m \u001b[0;32min\u001b[0m \u001b[0muser_input\u001b[0m\u001b[0;34m:\u001b[0m\u001b[0;34m\u001b[0m\u001b[0;34m\u001b[0m\u001b[0m\n\u001b[1;32m     54\u001b[0m       \u001b[0;34m[\u001b[0m\u001b[0;34m*\u001b[0m\u001b[0mitems\u001b[0m\u001b[0;34m]\u001b[0m \u001b[0;34m=\u001b[0m \u001b[0mexplore_room\u001b[0m\u001b[0;34m(\u001b[0m\u001b[0mcurrent_room\u001b[0m\u001b[0;34m[\u001b[0m\u001b[0;34m\"name\"\u001b[0m\u001b[0;34m]\u001b[0m\u001b[0;34m)\u001b[0m\u001b[0;34m\u001b[0m\u001b[0;34m\u001b[0m\u001b[0m\n",
            "\u001b[0;32m/usr/local/lib/python3.10/dist-packages/ipykernel/kernelbase.py\u001b[0m in \u001b[0;36mraw_input\u001b[0;34m(self, prompt)\u001b[0m\n\u001b[1;32m    849\u001b[0m                 \u001b[0;34m\"raw_input was called, but this frontend does not support input requests.\"\u001b[0m\u001b[0;34m\u001b[0m\u001b[0;34m\u001b[0m\u001b[0m\n\u001b[1;32m    850\u001b[0m             )\n\u001b[0;32m--> 851\u001b[0;31m         return self._input_request(str(prompt),\n\u001b[0m\u001b[1;32m    852\u001b[0m             \u001b[0mself\u001b[0m\u001b[0;34m.\u001b[0m\u001b[0m_parent_ident\u001b[0m\u001b[0;34m,\u001b[0m\u001b[0;34m\u001b[0m\u001b[0;34m\u001b[0m\u001b[0m\n\u001b[1;32m    853\u001b[0m             \u001b[0mself\u001b[0m\u001b[0;34m.\u001b[0m\u001b[0m_parent_header\u001b[0m\u001b[0;34m,\u001b[0m\u001b[0;34m\u001b[0m\u001b[0;34m\u001b[0m\u001b[0m\n",
            "\u001b[0;32m/usr/local/lib/python3.10/dist-packages/ipykernel/kernelbase.py\u001b[0m in \u001b[0;36m_input_request\u001b[0;34m(self, prompt, ident, parent, password)\u001b[0m\n\u001b[1;32m    893\u001b[0m             \u001b[0;32mexcept\u001b[0m \u001b[0mKeyboardInterrupt\u001b[0m\u001b[0;34m:\u001b[0m\u001b[0;34m\u001b[0m\u001b[0;34m\u001b[0m\u001b[0m\n\u001b[1;32m    894\u001b[0m                 \u001b[0;31m# re-raise KeyboardInterrupt, to truncate traceback\u001b[0m\u001b[0;34m\u001b[0m\u001b[0;34m\u001b[0m\u001b[0m\n\u001b[0;32m--> 895\u001b[0;31m                 \u001b[0;32mraise\u001b[0m \u001b[0mKeyboardInterrupt\u001b[0m\u001b[0;34m(\u001b[0m\u001b[0;34m\"Interrupted by user\"\u001b[0m\u001b[0;34m)\u001b[0m \u001b[0;32mfrom\u001b[0m \u001b[0;32mNone\u001b[0m\u001b[0;34m\u001b[0m\u001b[0;34m\u001b[0m\u001b[0m\n\u001b[0m\u001b[1;32m    896\u001b[0m             \u001b[0;32mexcept\u001b[0m \u001b[0mException\u001b[0m \u001b[0;32mas\u001b[0m \u001b[0me\u001b[0m\u001b[0;34m:\u001b[0m\u001b[0;34m\u001b[0m\u001b[0;34m\u001b[0m\u001b[0m\n\u001b[1;32m    897\u001b[0m                 \u001b[0mself\u001b[0m\u001b[0;34m.\u001b[0m\u001b[0mlog\u001b[0m\u001b[0;34m.\u001b[0m\u001b[0mwarning\u001b[0m\u001b[0;34m(\u001b[0m\u001b[0;34m\"Invalid Message:\"\u001b[0m\u001b[0;34m,\u001b[0m \u001b[0mexc_info\u001b[0m\u001b[0;34m=\u001b[0m\u001b[0;32mTrue\u001b[0m\u001b[0;34m)\u001b[0m\u001b[0;34m\u001b[0m\u001b[0;34m\u001b[0m\u001b[0m\n",
            "\u001b[0;31mKeyboardInterrupt\u001b[0m: Interrupted by user"
          ]
        }
      ],
      "source": [
        "#  This is Sergejs Cell. -- Please Do not touch --\n",
        "\n",
        "def enter_door(current_room, keys):\n",
        "  \"\"\"\n",
        "  docstrings incoming...\n",
        "  \"\"\"\n",
        "\n",
        "  user_input = input(f\"Which door would you like to try to open?\")\n",
        "  try:\n",
        "    if current_room in object_relations[user_input]:\n",
        "      for k in all_keys:\n",
        "        if k[\"target\"] == user_input and k[\"name\"] in game_state[\"keys_collected\"]:\n",
        "          next_room = [room[\"name\"] for room in object_relations[user_input] if room != current_room][0]\n",
        "          return next_room\n",
        "    else:\n",
        "      print(f\"Please pick a door in {current_room['name']}\")\n",
        "      return current_room\n",
        "  except IndexError:\n",
        "    print(\"This door does not exist... try again.\")\n",
        "\n",
        "def examine_object(current_room, object):\n",
        "  \"\"\"\n",
        "  This brings the player to examine a specific object in the current room,\n",
        "  The function prints out information or a description of the examined object if it is found in the room.\n",
        "  Parameters:current_room (dict): The dictionary representing the current room where the object is located.\n",
        "  \"\"\"\n",
        "\n",
        "  print(f\"You take a look at the {object}.\")\n",
        "  for thing in current_room:\n",
        "    if thing[\"name\"] == object:\n",
        "      print(thing[\"desc\"])\n",
        "\n",
        "def check_inventory(state):\n",
        "  for item in state:\n",
        "    print(f\"You have a {item}\")\n",
        "\n",
        "def start_game(current_room):\n",
        "  \"\"\"\n",
        "  This function starts the game by setting the initial room where the player begins.\n",
        "  Parameters: current_room (dict)represents the initial room where the player/user starts.\n",
        "  \"\"\"\n",
        "\n",
        "  target_room = game_state[\"target_room\"]\n",
        "\n",
        "  print(\"You wake up in an escape room in indonesia.\")\n",
        "  while current_room != target_room:\n",
        "\n",
        "    for room in all_rooms:\n",
        "      if room[\"name\"] == current_room:\n",
        "        current_room = room\n",
        "\n",
        "    user_input = input(f\"\\n You are in {current_room['name']}. What would you like to do now? You can explore the room, examine an object, search an object or check your inventory.\")\n",
        "    if \"explore\" in user_input:\n",
        "      [*items] = explore_room(current_room[\"name\"])\n",
        "    elif \"examine\" in user_input:\n",
        "      try:\n",
        "        for i in [*items]:\n",
        "          if i in user_input.lower():\n",
        "            examine_object(object_relations[current_room[\"name\"]], i)\n",
        "      except Exception as e:\n",
        "        print(\"Try exploring the room first...\")\n",
        "    elif \"search\" in user_input:\n",
        "      for i in object_relations[current_room[\"name\"]]:\n",
        "        if i[\"name\"] in user_input:\n",
        "          search_object(current_room, object_relations, i[\"name\"])\n",
        "          #if i[\"type\"] == \"door\":\n",
        "            #current_room = enter_door(current_room,i[\"name\"],game_state[\"keys_collected\"], object_relations)\n",
        "    elif \"check\" in user_input:\n",
        "      check_inventory(game_state[\"keys_collected\"])\n",
        "    elif \"door\" in user_input:\n",
        "      # for x in object_relations[current_room[\"name\"]]:\n",
        "        # if x[\"type\"] == \"door\":\n",
        "          # door = x[\"name\"]\n",
        "      current_room = enter_door(current_room, game_state[\"keys_collected\"])\n",
        "    else:\n",
        "      print(\"You have to choose something. Please type 'explore', 'examine' or 'check'.\")\n",
        "      break\n",
        "\n",
        "game_state = INIT_GAME_STATE.copy()\n",
        "\n",
        "start_game(game_state['current_room'][\"name\"])"
      ]
    },
    {
      "cell_type": "code",
      "source": [],
      "metadata": {
        "id": "ADlbg61vikd7"
      },
      "execution_count": null,
      "outputs": []
    }
  ],
  "metadata": {
    "colab": {
      "provenance": []
    },
    "kernelspec": {
      "display_name": "Python 3",
      "name": "python3"
    },
    "language_info": {
      "name": "python"
    }
  },
  "nbformat": 4,
  "nbformat_minor": 0
}