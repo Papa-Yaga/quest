{
  "cells": [
    {
      "cell_type": "code",
      "execution_count": null,
      "metadata": {
        "id": "ekJovDiNT0IC"
      },
      "outputs": [],
      "source": [
        "# Quest 1 - Escape Game"
      ]
    },
    {
      "cell_type": "code",
      "execution_count": null,
      "metadata": {
        "id": "oFDtVotye3R4"
      },
      "outputs": [],
      "source": [
        "# Shammi, Idara, Rosi, Sergej"
      ]
    },
    {
      "cell_type": "code",
      "execution_count": 2,
      "metadata": {
        "id": "ulNuRpC4iC1z"
      },
      "outputs": [],
      "source": [
        "# from shammi ------ (you can TOUCH 😛)\n",
        "\n",
        "# define rooms and items\n",
        "game_room = {\"name\": \"game_room\", \"type\": \"room\"}\n",
        "bedroom_1 = {\"name\": \"bedroom_1\", \"type\": \"room\"}\n",
        "bedroom_2 = {\"name\": \"bedroom_2\", \"type\": \"room\"}\n",
        "living_room = {\"name\": \"living_room\", \"type\": \"room\"}\n",
        "\n",
        "door_a = {\"name\": \"door_a\", \"type\": \"door\", \"desc\": \"A normal wooden door. It seems to require a key.\"}\n",
        "door_b = {\"name\": \"door_b\", \"type\": \"door\", \"desc\": \"A normal wooden door. It seems to require a key.\"}\n",
        "door_c = {\"name\": \"door_c\", \"type\": \"door\", \"desc\": \"A normal wooden door. It seems to require a key.\"}\n",
        "door_d = {\"name\": \"door_d\", \"type\": \"door\", \"desc\": \"A normal wooden door. It seems to require a key.\"}\n",
        "\n",
        "# Changes made to keys: Added \"target\" key to clearly mark which key belongs to which door.\n",
        "\n",
        "key_a = {\"name\": \"key_a\", \"type\": \"key\", \"target\": \"door_a\"}\n",
        "key_b = {\"name\": \"key_b\", \"type\": \"key\", \"target\": \"door_b\"}\n",
        "key_c = {\"name\": \"key_c\", \"type\": \"key\", \"target\": \"door_c\"}\n",
        "key_d = {\"name\": \"key_d\", \"type\": \"key\", \"target\": \"door_d\"}\n",
        "\n",
        "couch = {\"name\": \"couch\", \"type\": \"furniture\", \"desc\": \"An unassuming gray couch. Many people seem to have rested here before you.\"}\n",
        "piano = {\"name\": \"piano\", \"type\": \"furniture\", \"desc\": \"A grand black piano. Its wing is open, revealing the strings... and something shiny.\"}\n",
        "queen_bed = {\"name\": \"queen_bed\", \"type\": \"furniture\", \"desc\": \"A big bed, suitable for two. Looks comfortable...\"}\n",
        "double_bed = {\"name\": \"double_bed\", \"type\": \"furniture\", \"desc\": \"Also a big bed. Weird. As the name suggests, it can hold two...guests?.\"}\n",
        "dresser = {\"name\": \"dresser\", \"type\": \"furniture\", \"desc\": \"A small wooden dresser. Its handles seem to have been handled often.\"}\n",
        "dining_table = {\"name\": \"dining_table\", \"type\": \"furniture\", \"desc\": \"A regular dining table. Four chairs and some empty plates.\"}\n",
        "outside = {\"name\": \"outside\"}\n",
        "\n",
        "all_rooms = [game_room, bedroom_1, bedroom_2, living_room, outside]\n",
        "all_doors = [door_a, door_b, door_c, door_d]\n",
        "all_keys = [key_a, key_b, key_c, key_d]\n",
        "all_furnitures = [couch, piano, queen_bed, double_bed, dresser, dining_table]\n",
        "\n",
        "allVars = globals()\n",
        "\n",
        "\n",
        "# define which items/rooms are related\n",
        "# key and value\n",
        "\n",
        "object_relations = {\n",
        "    \"game_room\": [couch, piano, door_a],\n",
        "    \"bedroom_1\": [door_a, door_b, door_c, queen_bed],\n",
        "    \"bedroom_2\": [double_bed, dresser],\n",
        "    \"living_room\": [dining_table, door_c, door_d],\n",
        "\n",
        "    \"couch\": [],\n",
        "    \"piano\": [key_a],\n",
        "    \"queen_bed\": [key_b],\n",
        "    \"double_bed\": [key_c],\n",
        "    \"dresser\": [key_d],\n",
        "    \"dining_table\": [],\n",
        "\n",
        "    \"door_a\": [game_room, bedroom_1],\n",
        "    \"door_b\": [bedroom_1, bedroom_2],\n",
        "    \"door_c\": [bedroom_1, living_room],\n",
        "    \"door_d\": [living_room, outside],\n",
        "}\n",
        "\n",
        "\n",
        "INIT_GAME_STATE = {\n",
        "    \"current_room\": game_room,\n",
        "    \"keys_collected\": set(),\n",
        "    \"target_room\": outside,\n",
        "}\n"
      ]
    },
    {
      "cell_type": "code",
      "execution_count": 5,
      "metadata": {
        "colab": {
          "base_uri": "https://localhost:8080/",
          "height": 339
        },
        "id": "5Llm4qnZhCFz",
        "outputId": "27aaa101-9440-4161-f506-93ae6e5839cd"
      },
      "outputs": [
        {
          "name": "stdout",
          "output_type": "stream",
          "text": [
            "You wake up in an escape room in indonesia.\n",
            "Items in the room: ['couch', 'piano', 'door_a']\n",
            "You have to choose something. Please type 'explore', 'examine' or 'check'.\n"
          ]
        }
      ],
      "source": [
        "from functions import *\n",
        "\n",
        "game_state = INIT_GAME_STATE.copy()\n",
        "\n",
        "start_game(game_state['current_room'][\"name\"], game_state, object_relations, all_keys, all_rooms)"
      ]
    },
    {
      "cell_type": "code",
      "execution_count": null,
      "metadata": {
        "id": "ADlbg61vikd7"
      },
      "outputs": [],
      "source": []
    }
  ],
  "metadata": {
    "colab": {
      "provenance": []
    },
    "kernelspec": {
      "display_name": "Python 3",
      "name": "python3"
    },
    "language_info": {
      "codemirror_mode": {
        "name": "ipython",
        "version": 3
      },
      "file_extension": ".py",
      "mimetype": "text/x-python",
      "name": "python",
      "nbconvert_exporter": "python",
      "pygments_lexer": "ipython3",
      "version": "3.11.7"
    }
  },
  "nbformat": 4,
  "nbformat_minor": 0
}
